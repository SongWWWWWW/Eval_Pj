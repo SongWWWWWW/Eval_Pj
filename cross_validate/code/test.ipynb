{
 "cells": [
  {
   "cell_type": "code",
   "execution_count": null,
   "metadata": {},
   "outputs": [],
   "source": [
    "import numpy as np\n",
    "from py_irt.config import ModelConfig\n",
    "from py_irt.models import train_model_from_matrix\n",
    "\n",
    "# 模拟一个 response 矩阵（行是被试，列是题目）\n",
    "response_matrix = np.random.randint(0, 2, size=(100, 30)).astype(np.float32)\n",
    "\n",
    "# 配置模型：2PL\n",
    "config = ModelConfig(model_type=\"2pl\", num_items=response_matrix.shape[1], num_subjects=response_matrix.shape[0])\n",
    "\n",
    "# 拟合模型\n",
    "model = train_model_from_matrix(config=config, response_matrix=response_matrix)\n",
    "\n",
    "# 获取被试能力\n",
    "abilities = [model.subject_abilities[str(i)] for i in range(response_matrix.shape[0])]\n",
    "print(\"Abilities:\", abilities[:5])\n"
   ]
  }
 ],
 "metadata": {
  "kernelspec": {
   "display_name": "eval_pj",
   "language": "python",
   "name": "python3"
  },
  "language_info": {
   "name": "python",
   "version": "3.11.11"
  }
 },
 "nbformat": 4,
 "nbformat_minor": 2
}
